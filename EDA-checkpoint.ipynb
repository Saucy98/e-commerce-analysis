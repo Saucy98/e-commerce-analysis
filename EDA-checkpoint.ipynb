{
  "metadata": {
    "kernelspec": {
      "name": "python",
      "display_name": "Python (Pyodide)",
      "language": "python"
    },
    "language_info": {
      "codemirror_mode": {
        "name": "python",
        "version": 3
      },
      "file_extension": ".py",
      "mimetype": "text/x-python",
      "name": "python",
      "nbconvert_exporter": "python",
      "pygments_lexer": "ipython3",
      "version": "3.8"
    }
  },
  "nbformat_minor": 5,
  "nbformat": 4,
  "cells": [
    {
      "cell_type": "code",
      "source": "import pandas as pd\nimport numpy as np\n\nfrom datetime import date",
      "metadata": {
        "trusted": true
      },
      "execution_count": 1,
      "outputs": [],
      "id": "f536e8d0-95dc-4cc8-952b-c045ea2c89f8"
    },
    {
      "cell_type": "markdown",
      "source": "### Importando dataset e-commerce\n\nPara mas informacion del dataset, consulte en el siguiente [link](https://www.kaggle.com/datasets/carrie1/ecommerce-data) ",
      "metadata": {},
      "id": "585e931c-47dd-4420-b433-65546f980570"
    },
    {
      "cell_type": "code",
      "source": "ecommerce = pd.read_csv(\"data.csv\")",
      "metadata": {
        "trusted": true
      },
      "execution_count": 2,
      "outputs": [],
      "id": "9015229e-beac-4546-bf9d-deeecec148f8"
    },
    {
      "cell_type": "code",
      "source": "ecommerce.head(5)",
      "metadata": {
        "trusted": true
      },
      "execution_count": 3,
      "outputs": [
        {
          "execution_count": 3,
          "output_type": "execute_result",
          "data": {
            "text/plain": "  InvoiceNo StockCode                          Description  Quantity  \\\n0    536365    85123A   WHITE HANGING HEART T-LIGHT HOLDER         6   \n1    536365     71053                  WHITE METAL LANTERN         6   \n2    536365    84406B       CREAM CUPID HEARTS COAT HANGER         8   \n3    536365    84029G  KNITTED UNION FLAG HOT WATER BOTTLE         6   \n4    536365    84029E       RED WOOLLY HOTTIE WHITE HEART.         6   \n\n      InvoiceDate  UnitPrice  CustomerID         Country  \n0  12/1/2010 8:26       2.55     17850.0  United Kingdom  \n1  12/1/2010 8:26       3.39     17850.0  United Kingdom  \n2  12/1/2010 8:26       2.75     17850.0  United Kingdom  \n3  12/1/2010 8:26       3.39     17850.0  United Kingdom  \n4  12/1/2010 8:26       3.39     17850.0  United Kingdom  ",
            "text/html": "<div>\n<style scoped>\n    .dataframe tbody tr th:only-of-type {\n        vertical-align: middle;\n    }\n\n    .dataframe tbody tr th {\n        vertical-align: top;\n    }\n\n    .dataframe thead th {\n        text-align: right;\n    }\n</style>\n<table border=\"1\" class=\"dataframe\">\n  <thead>\n    <tr style=\"text-align: right;\">\n      <th></th>\n      <th>InvoiceNo</th>\n      <th>StockCode</th>\n      <th>Description</th>\n      <th>Quantity</th>\n      <th>InvoiceDate</th>\n      <th>UnitPrice</th>\n      <th>CustomerID</th>\n      <th>Country</th>\n    </tr>\n  </thead>\n  <tbody>\n    <tr>\n      <th>0</th>\n      <td>536365</td>\n      <td>85123A</td>\n      <td>WHITE HANGING HEART T-LIGHT HOLDER</td>\n      <td>6</td>\n      <td>12/1/2010 8:26</td>\n      <td>2.55</td>\n      <td>17850.0</td>\n      <td>United Kingdom</td>\n    </tr>\n    <tr>\n      <th>1</th>\n      <td>536365</td>\n      <td>71053</td>\n      <td>WHITE METAL LANTERN</td>\n      <td>6</td>\n      <td>12/1/2010 8:26</td>\n      <td>3.39</td>\n      <td>17850.0</td>\n      <td>United Kingdom</td>\n    </tr>\n    <tr>\n      <th>2</th>\n      <td>536365</td>\n      <td>84406B</td>\n      <td>CREAM CUPID HEARTS COAT HANGER</td>\n      <td>8</td>\n      <td>12/1/2010 8:26</td>\n      <td>2.75</td>\n      <td>17850.0</td>\n      <td>United Kingdom</td>\n    </tr>\n    <tr>\n      <th>3</th>\n      <td>536365</td>\n      <td>84029G</td>\n      <td>KNITTED UNION FLAG HOT WATER BOTTLE</td>\n      <td>6</td>\n      <td>12/1/2010 8:26</td>\n      <td>3.39</td>\n      <td>17850.0</td>\n      <td>United Kingdom</td>\n    </tr>\n    <tr>\n      <th>4</th>\n      <td>536365</td>\n      <td>84029E</td>\n      <td>RED WOOLLY HOTTIE WHITE HEART.</td>\n      <td>6</td>\n      <td>12/1/2010 8:26</td>\n      <td>3.39</td>\n      <td>17850.0</td>\n      <td>United Kingdom</td>\n    </tr>\n  </tbody>\n</table>\n</div>"
          },
          "metadata": {}
        }
      ],
      "id": "29f93f92-c02b-499f-90a2-bbfdfedc181d"
    },
    {
      "cell_type": "code",
      "source": "ecommerce.shape",
      "metadata": {
        "trusted": true
      },
      "execution_count": 4,
      "outputs": [
        {
          "execution_count": 4,
          "output_type": "execute_result",
          "data": {
            "text/plain": "(541909, 8)"
          },
          "metadata": {}
        }
      ],
      "id": "3f1a91b1-2a14-4e75-8c45-417b78cf1310"
    },
    {
      "cell_type": "markdown",
      "source": "### cast de fechas y tratamiento de columnas Dias, mes, año",
      "metadata": {},
      "id": "8650b37c-cd28-4923-ae94-908dadf4bf69"
    },
    {
      "cell_type": "code",
      "source": "ecommerce.dtypes",
      "metadata": {
        "trusted": true
      },
      "execution_count": 5,
      "outputs": [
        {
          "execution_count": 5,
          "output_type": "execute_result",
          "data": {
            "text/plain": "InvoiceNo       object\nStockCode       object\nDescription     object\nQuantity         int64\nInvoiceDate     object\nUnitPrice      float64\nCustomerID     float64\nCountry         object\ndtype: object"
          },
          "metadata": {}
        }
      ],
      "id": "4523f5e7-902a-4057-b5c7-66c9eea3e63f"
    },
    {
      "cell_type": "code",
      "source": "ecommerce[\"InvoiceDate\"] = pd.to_datetime(ecommerce[\"InvoiceDate\"])",
      "metadata": {
        "trusted": true
      },
      "execution_count": 6,
      "outputs": [],
      "id": "1b6dc6a7-c51b-445f-89df-7a8da46950bb"
    },
    {
      "cell_type": "code",
      "source": "ecommerce.dtypes",
      "metadata": {
        "trusted": true
      },
      "execution_count": 7,
      "outputs": [
        {
          "execution_count": 7,
          "output_type": "execute_result",
          "data": {
            "text/plain": "InvoiceNo              object\nStockCode              object\nDescription            object\nQuantity                int64\nInvoiceDate    datetime64[ns]\nUnitPrice             float64\nCustomerID            float64\nCountry                object\ndtype: object"
          },
          "metadata": {}
        }
      ],
      "id": "5948f0a8-8a04-4bd0-b111-919ce302e0a8"
    },
    {
      "cell_type": "code",
      "source": "ecommerce.head(1)",
      "metadata": {
        "trusted": true
      },
      "execution_count": 8,
      "outputs": [
        {
          "execution_count": 8,
          "output_type": "execute_result",
          "data": {
            "text/plain": "  InvoiceNo StockCode                         Description  Quantity  \\\n0    536365    85123A  WHITE HANGING HEART T-LIGHT HOLDER         6   \n\n          InvoiceDate  UnitPrice  CustomerID         Country  \n0 2010-12-01 08:26:00       2.55     17850.0  United Kingdom  ",
            "text/html": "<div>\n<style scoped>\n    .dataframe tbody tr th:only-of-type {\n        vertical-align: middle;\n    }\n\n    .dataframe tbody tr th {\n        vertical-align: top;\n    }\n\n    .dataframe thead th {\n        text-align: right;\n    }\n</style>\n<table border=\"1\" class=\"dataframe\">\n  <thead>\n    <tr style=\"text-align: right;\">\n      <th></th>\n      <th>InvoiceNo</th>\n      <th>StockCode</th>\n      <th>Description</th>\n      <th>Quantity</th>\n      <th>InvoiceDate</th>\n      <th>UnitPrice</th>\n      <th>CustomerID</th>\n      <th>Country</th>\n    </tr>\n  </thead>\n  <tbody>\n    <tr>\n      <th>0</th>\n      <td>536365</td>\n      <td>85123A</td>\n      <td>WHITE HANGING HEART T-LIGHT HOLDER</td>\n      <td>6</td>\n      <td>2010-12-01 08:26:00</td>\n      <td>2.55</td>\n      <td>17850.0</td>\n      <td>United Kingdom</td>\n    </tr>\n  </tbody>\n</table>\n</div>"
          },
          "metadata": {}
        }
      ],
      "id": "3bf11eef-d788-4bfd-b5f0-37768065e74c"
    },
    {
      "cell_type": "code",
      "source": "ecommerce[\"year\"] = ecommerce[\"InvoiceDate\"].dt.year\necommerce[\"month\"] = ecommerce[\"InvoiceDate\"].dt.month\necommerce[\"day\"] = ecommerce[\"InvoiceDate\"].dt.day",
      "metadata": {
        "trusted": true
      },
      "execution_count": 9,
      "outputs": [],
      "id": "31abe82c-bd2d-4dfa-adfb-46fc2919743d"
    },
    {
      "cell_type": "code",
      "source": "ecommerce.head(1)",
      "metadata": {
        "trusted": true
      },
      "execution_count": 10,
      "outputs": [
        {
          "execution_count": 10,
          "output_type": "execute_result",
          "data": {
            "text/plain": "  InvoiceNo StockCode                         Description  Quantity  \\\n0    536365    85123A  WHITE HANGING HEART T-LIGHT HOLDER         6   \n\n          InvoiceDate  UnitPrice  CustomerID         Country  year  month  day  \n0 2010-12-01 08:26:00       2.55     17850.0  United Kingdom  2010     12    1  ",
            "text/html": "<div>\n<style scoped>\n    .dataframe tbody tr th:only-of-type {\n        vertical-align: middle;\n    }\n\n    .dataframe tbody tr th {\n        vertical-align: top;\n    }\n\n    .dataframe thead th {\n        text-align: right;\n    }\n</style>\n<table border=\"1\" class=\"dataframe\">\n  <thead>\n    <tr style=\"text-align: right;\">\n      <th></th>\n      <th>InvoiceNo</th>\n      <th>StockCode</th>\n      <th>Description</th>\n      <th>Quantity</th>\n      <th>InvoiceDate</th>\n      <th>UnitPrice</th>\n      <th>CustomerID</th>\n      <th>Country</th>\n      <th>year</th>\n      <th>month</th>\n      <th>day</th>\n    </tr>\n  </thead>\n  <tbody>\n    <tr>\n      <th>0</th>\n      <td>536365</td>\n      <td>85123A</td>\n      <td>WHITE HANGING HEART T-LIGHT HOLDER</td>\n      <td>6</td>\n      <td>2010-12-01 08:26:00</td>\n      <td>2.55</td>\n      <td>17850.0</td>\n      <td>United Kingdom</td>\n      <td>2010</td>\n      <td>12</td>\n      <td>1</td>\n    </tr>\n  </tbody>\n</table>\n</div>"
          },
          "metadata": {}
        }
      ],
      "id": "8d470a46-bd5c-4346-bbce-04172ab0592c"
    },
    {
      "cell_type": "markdown",
      "source": "#### Exploracion de paises",
      "metadata": {},
      "id": "44b41184-9937-4ca6-85a8-11bb254c26fc"
    },
    {
      "cell_type": "code",
      "source": "ecommerce[\"Country\"].drop_duplicates()",
      "metadata": {
        "trusted": true
      },
      "execution_count": 11,
      "outputs": [
        {
          "execution_count": 11,
          "output_type": "execute_result",
          "data": {
            "text/plain": "0               United Kingdom\n26                      France\n197                  Australia\n385                Netherlands\n1109                   Germany\n1236                    Norway\n1404                      EIRE\n5320               Switzerland\n6421                     Spain\n6608                    Poland\n7134                  Portugal\n7214                     Italy\n7279                   Belgium\n7986                 Lithuania\n9783                     Japan\n14938                  Iceland\n20000          Channel Islands\n20017                  Denmark\n29732                   Cyprus\n30078                   Sweden\n31464                  Austria\n31982                   Israel\n34083                  Finland\n38313                  Bahrain\n69007                   Greece\n69623                Hong Kong\n70758                Singapore\n72985                  Lebanon\n89570     United Arab Emirates\n100810            Saudi Arabia\n103598          Czech Republic\n119191                  Canada\n152712             Unspecified\n157299                  Brazil\n164464                     USA\n168149      European Community\n217684                   Malta\n395472                     RSA\nName: Country, dtype: object"
          },
          "metadata": {}
        }
      ],
      "id": "46440f57-adfa-497f-a35d-ebf67b2d5a63"
    },
    {
      "cell_type": "markdown",
      "source": "### Ejercicios",
      "metadata": {},
      "id": "59467bac-70e6-495b-ad2a-151cafb1fd81"
    },
    {
      "cell_type": "markdown",
      "source": "**Ejercicio 1:** Por pais muestre cual fue el año en el que mejor ingreso se registro y su valor, adicional muestre cual fue el año con mas Invoices (Frecuencia) y otra columna con el total.\n\nNota: Note que el año con mejor ingreso no es lo mismo con el año con mas invoices, por ejemplo en 2019 Honduras en dos invoices se facturo 10,000. sin embargo, en 2020 se realizaron 20 invoices (pueda que en este año el ingreso de esas invoices hayan sumado 7,000 inferior al 2020) \n\n*recuerde que el ejemplo es inventado*\n\nEjemplo de como se deberia de ver el dataframe resultante:\n",
      "metadata": {},
      "id": "70bb9dfe-ecad-4be0-a0fa-c480d8a1f897"
    },
    {
      "cell_type": "code",
      "source": "pd.DataFrame({\n    \"country\" : [\"Honduras\"]\n    , \"YearMejorIngreso\" : [2019]\n    , \"ValorYearMejorIngreso\" : [20000]\n    , \"YearMejorFrecuenciaInvoices\": [2020]\n    , \"CantidadYearMejorFrecuenciaInvoices\": [20]\n})",
      "metadata": {
        "trusted": true
      },
      "execution_count": 12,
      "outputs": [
        {
          "execution_count": 12,
          "output_type": "execute_result",
          "data": {
            "text/plain": "    country  YearMejorIngreso  ValorYearMejorIngreso  \\\n0  Honduras              2019                  20000   \n\n   YearMejorFrecuenciaInvoices  CantidadYearMejorFrecuenciaInvoices  \n0                         2020                                   20  ",
            "text/html": "<div>\n<style scoped>\n    .dataframe tbody tr th:only-of-type {\n        vertical-align: middle;\n    }\n\n    .dataframe tbody tr th {\n        vertical-align: top;\n    }\n\n    .dataframe thead th {\n        text-align: right;\n    }\n</style>\n<table border=\"1\" class=\"dataframe\">\n  <thead>\n    <tr style=\"text-align: right;\">\n      <th></th>\n      <th>country</th>\n      <th>YearMejorIngreso</th>\n      <th>ValorYearMejorIngreso</th>\n      <th>YearMejorFrecuenciaInvoices</th>\n      <th>CantidadYearMejorFrecuenciaInvoices</th>\n    </tr>\n  </thead>\n  <tbody>\n    <tr>\n      <th>0</th>\n      <td>Honduras</td>\n      <td>2019</td>\n      <td>20000</td>\n      <td>2020</td>\n      <td>20</td>\n    </tr>\n  </tbody>\n</table>\n</div>"
          },
          "metadata": {}
        }
      ],
      "id": "55fe6436-310a-419a-81e0-6afcb8d382fe"
    },
    {
      "cell_type": "markdown",
      "source": "*Answer:*",
      "metadata": {},
      "id": "cff03062-89d2-4e55-b2ee-29c492828efa"
    },
    {
      "cell_type": "code",
      "source": "\ncountry = ecommerce.groupby(\"Country\")[[\"UnitPrice\"].agg([\"sum\"]).sort_values(by=[(\"UnitPrice\", \"sum\")], ascending=False)]",
      "metadata": {
        "trusted": true
      },
      "execution_count": 13,
      "outputs": [
        {
          "ename": "<class 'AttributeError'>",
          "evalue": "'list' object has no attribute 'agg'",
          "traceback": [
            "\u001b[0;31m---------------------------------------------------------------------------\u001b[0m",
            "\u001b[0;31mAttributeError\u001b[0m                            Traceback (most recent call last)",
            "Input \u001b[0;32mIn [13]\u001b[0m, in \u001b[0;36m<cell line: 1>\u001b[0;34m()\u001b[0m\n\u001b[0;32m----> 1\u001b[0m country \u001b[38;5;241m=\u001b[39m ecommerce\u001b[38;5;241m.\u001b[39mgroupby(\u001b[38;5;124m\"\u001b[39m\u001b[38;5;124mCountry\u001b[39m\u001b[38;5;124m\"\u001b[39m)[\u001b[43m[\u001b[49m\u001b[38;5;124;43m\"\u001b[39;49m\u001b[38;5;124;43mUnitPrice\u001b[39;49m\u001b[38;5;124;43m\"\u001b[39;49m\u001b[43m]\u001b[49m\u001b[38;5;241;43m.\u001b[39;49m\u001b[43magg\u001b[49m([\u001b[38;5;124m\"\u001b[39m\u001b[38;5;124msum\u001b[39m\u001b[38;5;124m\"\u001b[39m])\u001b[38;5;241m.\u001b[39msort_values(by\u001b[38;5;241m=\u001b[39m[(\u001b[38;5;124m\"\u001b[39m\u001b[38;5;124mUnitPrice\u001b[39m\u001b[38;5;124m\"\u001b[39m, \u001b[38;5;124m\"\u001b[39m\u001b[38;5;124msum\u001b[39m\u001b[38;5;124m\"\u001b[39m)], ascending\u001b[38;5;241m=\u001b[39m\u001b[38;5;28;01mFalse\u001b[39;00m)]\n",
            "\u001b[0;31mAttributeError\u001b[0m: 'list' object has no attribute 'agg'"
          ],
          "output_type": "error"
        }
      ],
      "id": "c2a67d98-c195-4bf7-99cd-26e994392ee0"
    },
    {
      "cell_type": "code",
      "source": "country  = ecommerce.loc[:, [\"year\", \"UnitPrice\"]].groupby([\"year\"]).count",
      "metadata": {
        "trusted": true
      },
      "execution_count": 14,
      "outputs": [],
      "id": "bfafbb98-4ab7-4395-8657-4e5a66268bb9"
    },
    {
      "cell_type": "code",
      "source": "country.sort_values(by =\"year\", ascending =  False)",
      "metadata": {
        "trusted": true
      },
      "execution_count": 15,
      "outputs": [
        {
          "ename": "<class 'AttributeError'>",
          "evalue": "'function' object has no attribute 'sort_values'",
          "traceback": [
            "\u001b[0;31m---------------------------------------------------------------------------\u001b[0m",
            "\u001b[0;31mAttributeError\u001b[0m                            Traceback (most recent call last)",
            "Input \u001b[0;32mIn [15]\u001b[0m, in \u001b[0;36m<cell line: 1>\u001b[0;34m()\u001b[0m\n\u001b[0;32m----> 1\u001b[0m \u001b[43mcountry\u001b[49m\u001b[38;5;241;43m.\u001b[39;49m\u001b[43msort_values\u001b[49m(by \u001b[38;5;241m=\u001b[39m\u001b[38;5;124m\"\u001b[39m\u001b[38;5;124myear\u001b[39m\u001b[38;5;124m\"\u001b[39m, ascending \u001b[38;5;241m=\u001b[39m  \u001b[38;5;28;01mFalse\u001b[39;00m)\n",
            "\u001b[0;31mAttributeError\u001b[0m: 'function' object has no attribute 'sort_values'"
          ],
          "output_type": "error"
        }
      ],
      "id": "c0c0133f-262b-4608-8efb-bd124d561e70"
    },
    {
      "cell_type": "markdown",
      "source": "**Ejercicio 2:** Cual es el Top tres por año de los Invoices con mas facturado\n\nEjemplo de como se deberia de ver el dataframe resultante (Recuerde que este es un ejemplo inventado):",
      "metadata": {},
      "id": "3c210dae-b3d4-427f-b3f8-f3aae4ba91c4"
    },
    {
      "cell_type": "code",
      "source": "pd.DataFrame({\n    \"Year\" : [2019,2019,2019,2020,2020,2020]\n    , \"Top\" : [1,2,3,1,2,3]\n    , \"InvoiceNo\" : [536365, 536999, 693365, 24987, 56832, 254232]    \n    , \"TotalInvoice\": [30000,28000,27900,29000,25000,24600]\n})",
      "metadata": {
        "trusted": true
      },
      "execution_count": 16,
      "outputs": [
        {
          "execution_count": 16,
          "output_type": "execute_result",
          "data": {
            "text/plain": "   Year  Top  InvoiceNo  TotalInvoice\n0  2019    1     536365         30000\n1  2019    2     536999         28000\n2  2019    3     693365         27900\n3  2020    1      24987         29000\n4  2020    2      56832         25000\n5  2020    3     254232         24600",
            "text/html": "<div>\n<style scoped>\n    .dataframe tbody tr th:only-of-type {\n        vertical-align: middle;\n    }\n\n    .dataframe tbody tr th {\n        vertical-align: top;\n    }\n\n    .dataframe thead th {\n        text-align: right;\n    }\n</style>\n<table border=\"1\" class=\"dataframe\">\n  <thead>\n    <tr style=\"text-align: right;\">\n      <th></th>\n      <th>Year</th>\n      <th>Top</th>\n      <th>InvoiceNo</th>\n      <th>TotalInvoice</th>\n    </tr>\n  </thead>\n  <tbody>\n    <tr>\n      <th>0</th>\n      <td>2019</td>\n      <td>1</td>\n      <td>536365</td>\n      <td>30000</td>\n    </tr>\n    <tr>\n      <th>1</th>\n      <td>2019</td>\n      <td>2</td>\n      <td>536999</td>\n      <td>28000</td>\n    </tr>\n    <tr>\n      <th>2</th>\n      <td>2019</td>\n      <td>3</td>\n      <td>693365</td>\n      <td>27900</td>\n    </tr>\n    <tr>\n      <th>3</th>\n      <td>2020</td>\n      <td>1</td>\n      <td>24987</td>\n      <td>29000</td>\n    </tr>\n    <tr>\n      <th>4</th>\n      <td>2020</td>\n      <td>2</td>\n      <td>56832</td>\n      <td>25000</td>\n    </tr>\n    <tr>\n      <th>5</th>\n      <td>2020</td>\n      <td>3</td>\n      <td>254232</td>\n      <td>24600</td>\n    </tr>\n  </tbody>\n</table>\n</div>"
          },
          "metadata": {}
        }
      ],
      "id": "ab5cae1b-b89b-45ef-9b19-eca935d61211"
    },
    {
      "cell_type": "markdown",
      "source": "*Answer:*",
      "metadata": {
        "tags": []
      },
      "id": "3fdb5a72-ecda-4731-b43c-1d3027807a79"
    },
    {
      "cell_type": "code",
      "source": "multi = ecommerce[\"TotalInvoice\"] = ecommerce[\"Quantity\"] * ecommerce[\"UnitPrice\"]",
      "metadata": {
        "trusted": true
      },
      "execution_count": 27,
      "outputs": [],
      "id": "4f4925d8-8265-4cad-aa86-38734d595eea"
    },
    {
      "cell_type": "code",
      "source": "multi = ecommerce.loc[:,[\"year\",\"InvoiceNo\",\"TotalInvoice\"]].groupby([\"year\"]).max()",
      "metadata": {
        "trusted": true
      },
      "execution_count": 28,
      "outputs": [],
      "id": "ef75cb37-050d-435b-bd7b-8ff05d68a11a"
    },
    {
      "cell_type": "code",
      "source": "multi.sort_values(by = \"TotalInvoice\", ascending = False)",
      "metadata": {
        "trusted": true
      },
      "execution_count": 30,
      "outputs": [
        {
          "execution_count": 30,
          "output_type": "execute_result",
          "data": {
            "text/plain": "     InvoiceNo  TotalInvoice\nyear                        \n2011   C581569     168469.60\n2010   C539983      13541.33",
            "text/html": "<div>\n<style scoped>\n    .dataframe tbody tr th:only-of-type {\n        vertical-align: middle;\n    }\n\n    .dataframe tbody tr th {\n        vertical-align: top;\n    }\n\n    .dataframe thead th {\n        text-align: right;\n    }\n</style>\n<table border=\"1\" class=\"dataframe\">\n  <thead>\n    <tr style=\"text-align: right;\">\n      <th></th>\n      <th>InvoiceNo</th>\n      <th>TotalInvoice</th>\n    </tr>\n    <tr>\n      <th>year</th>\n      <th></th>\n      <th></th>\n    </tr>\n  </thead>\n  <tbody>\n    <tr>\n      <th>2011</th>\n      <td>C581569</td>\n      <td>168469.60</td>\n    </tr>\n    <tr>\n      <th>2010</th>\n      <td>C539983</td>\n      <td>13541.33</td>\n    </tr>\n  </tbody>\n</table>\n</div>"
          },
          "metadata": {}
        }
      ],
      "id": "754f48cf-b63d-475b-9c00-28c2519936a5"
    },
    {
      "cell_type": "markdown",
      "source": "**Ejercicio 3:** Genere el siguiente Dataset para cada uno de los clientes:",
      "metadata": {},
      "id": "e894a0a7-ca82-496c-8ede-21e238253736"
    },
    {
      "cell_type": "code",
      "source": "pd.DataFrame({\n    \"CustomerID\" : [111,111,111]\n    , \"YearMonth\" : [\"2019-1\",\"2019-2\",\"2019-3\"]\n    , \"TotalValorInvoices\" : [20000,22000,0]    \n    , \"TotalCantidadInvoices\" : [3,2,0]    \n    , \"FacturaSiguienteMes\": [1,0,1]\n})",
      "metadata": {
        "trusted": true
      },
      "execution_count": 21,
      "outputs": [
        {
          "execution_count": 21,
          "output_type": "execute_result",
          "data": {
            "text/plain": "   CustomerID YearMonth  TotalValorInvoices  TotalCantidadInvoices  \\\n0         111    2019-1               20000                      3   \n1         111    2019-2               22000                      2   \n2         111    2019-3                   0                      0   \n\n   FacturaSiguienteMes  \n0                    1  \n1                    0  \n2                    1  ",
            "text/html": "<div>\n<style scoped>\n    .dataframe tbody tr th:only-of-type {\n        vertical-align: middle;\n    }\n\n    .dataframe tbody tr th {\n        vertical-align: top;\n    }\n\n    .dataframe thead th {\n        text-align: right;\n    }\n</style>\n<table border=\"1\" class=\"dataframe\">\n  <thead>\n    <tr style=\"text-align: right;\">\n      <th></th>\n      <th>CustomerID</th>\n      <th>YearMonth</th>\n      <th>TotalValorInvoices</th>\n      <th>TotalCantidadInvoices</th>\n      <th>FacturaSiguienteMes</th>\n    </tr>\n  </thead>\n  <tbody>\n    <tr>\n      <th>0</th>\n      <td>111</td>\n      <td>2019-1</td>\n      <td>20000</td>\n      <td>3</td>\n      <td>1</td>\n    </tr>\n    <tr>\n      <th>1</th>\n      <td>111</td>\n      <td>2019-2</td>\n      <td>22000</td>\n      <td>2</td>\n      <td>0</td>\n    </tr>\n    <tr>\n      <th>2</th>\n      <td>111</td>\n      <td>2019-3</td>\n      <td>0</td>\n      <td>0</td>\n      <td>1</td>\n    </tr>\n  </tbody>\n</table>\n</div>"
          },
          "metadata": {}
        }
      ],
      "id": "c441a2a1-eb4c-4338-85b3-282e5c681076"
    },
    {
      "cell_type": "markdown",
      "source": "*Ten en cuenta lo siguiente:*\n\nMediante el cross join puedo emular el producto cartesiano de dos vectores para obtener las combinaciones unicas de los valores de cada uno de ellos",
      "metadata": {},
      "id": "503648d0-6b5e-4704-be64-56ab14f9b0a9"
    },
    {
      "cell_type": "code",
      "source": "df1 = pd.DataFrame( {\"year\": [2019,2020]} )\ndf2 = pd.DataFrame( {\"Cliente\": [111,112,113]} )\n\ndf2.merge(df1, how='cross')",
      "metadata": {
        "trusted": true
      },
      "execution_count": 22,
      "outputs": [
        {
          "execution_count": 22,
          "output_type": "execute_result",
          "data": {
            "text/plain": "   Cliente  year\n0      111  2019\n1      111  2020\n2      112  2019\n3      112  2020\n4      113  2019\n5      113  2020",
            "text/html": "<div>\n<style scoped>\n    .dataframe tbody tr th:only-of-type {\n        vertical-align: middle;\n    }\n\n    .dataframe tbody tr th {\n        vertical-align: top;\n    }\n\n    .dataframe thead th {\n        text-align: right;\n    }\n</style>\n<table border=\"1\" class=\"dataframe\">\n  <thead>\n    <tr style=\"text-align: right;\">\n      <th></th>\n      <th>Cliente</th>\n      <th>year</th>\n    </tr>\n  </thead>\n  <tbody>\n    <tr>\n      <th>0</th>\n      <td>111</td>\n      <td>2019</td>\n    </tr>\n    <tr>\n      <th>1</th>\n      <td>111</td>\n      <td>2020</td>\n    </tr>\n    <tr>\n      <th>2</th>\n      <td>112</td>\n      <td>2019</td>\n    </tr>\n    <tr>\n      <th>3</th>\n      <td>112</td>\n      <td>2020</td>\n    </tr>\n    <tr>\n      <th>4</th>\n      <td>113</td>\n      <td>2019</td>\n    </tr>\n    <tr>\n      <th>5</th>\n      <td>113</td>\n      <td>2020</td>\n    </tr>\n  </tbody>\n</table>\n</div>"
          },
          "metadata": {}
        }
      ],
      "id": "486623c5-ff8e-4ed2-b9c9-9eb70830f526"
    },
    {
      "cell_type": "markdown",
      "source": "*Observaciones:*\n\n* TotalValorInvoices: La suma del total facturado por todas sus facturas\n* TotalCantidadInvoices: La cantidad de facturas unicas realizadas en ese mes\n* FacturaSiguienteMes: Una variable de respuesta que nos dice si al siguiente mes por ese cliente se encontro por lo menos una factura.\n\nNote que por la logica de este dataset el ultimo año-mes encontrado en todo el dataset se va a descartar del resultado final por que no se sabe el valor del siguiente mes.\n\n*Answer:*",
      "metadata": {},
      "id": "4479e728-d5ce-4513-8289-2a7f74a15243"
    },
    {
      "cell_type": "code",
      "source": "",
      "metadata": {},
      "execution_count": null,
      "outputs": [],
      "id": "f990d2c9-e833-4390-b6cd-a232c9068228"
    },
    {
      "cell_type": "markdown",
      "source": "**Ejercicio cuatro:** Cual es el top 3 de los productos que menos ingresos generan por Pais del ultimo año encontrado del dataset.\n\nEjemplo de como se deberia de ver el dataframe resultante (Recuerde que este es un ejemplo inventado): ",
      "metadata": {},
      "id": "d043c4cd-ac71-48c8-917f-b649a7df0f84"
    },
    {
      "cell_type": "code",
      "source": "pd.DataFrame({\n    \"Country\" : [\"Canada\",\"Canada\",\"Canada\",\"Spain\",\"Spain\",\"Spain\"]\n    , \"Top\" : [1,2,3,1,2,3]    \n    , \"StockCode\": [546,6886,665,656,888,668]\n    , \"Description\": [\"Product X\",\"Product K\",\"Product J\",\"Product C\",\"Product D\",\"Product U\"]\n    , \"TotalOnInvoices\": [2000,2100,4000,3000,3800,3900]\n})",
      "metadata": {
        "trusted": true
      },
      "execution_count": 23,
      "outputs": [
        {
          "execution_count": 23,
          "output_type": "execute_result",
          "data": {
            "text/plain": "  Country  Top  StockCode Description  TotalOnInvoices\n0  Canada    1        546   Product X             2000\n1  Canada    2       6886   Product K             2100\n2  Canada    3        665   Product J             4000\n3   Spain    1        656   Product C             3000\n4   Spain    2        888   Product D             3800\n5   Spain    3        668   Product U             3900",
            "text/html": "<div>\n<style scoped>\n    .dataframe tbody tr th:only-of-type {\n        vertical-align: middle;\n    }\n\n    .dataframe tbody tr th {\n        vertical-align: top;\n    }\n\n    .dataframe thead th {\n        text-align: right;\n    }\n</style>\n<table border=\"1\" class=\"dataframe\">\n  <thead>\n    <tr style=\"text-align: right;\">\n      <th></th>\n      <th>Country</th>\n      <th>Top</th>\n      <th>StockCode</th>\n      <th>Description</th>\n      <th>TotalOnInvoices</th>\n    </tr>\n  </thead>\n  <tbody>\n    <tr>\n      <th>0</th>\n      <td>Canada</td>\n      <td>1</td>\n      <td>546</td>\n      <td>Product X</td>\n      <td>2000</td>\n    </tr>\n    <tr>\n      <th>1</th>\n      <td>Canada</td>\n      <td>2</td>\n      <td>6886</td>\n      <td>Product K</td>\n      <td>2100</td>\n    </tr>\n    <tr>\n      <th>2</th>\n      <td>Canada</td>\n      <td>3</td>\n      <td>665</td>\n      <td>Product J</td>\n      <td>4000</td>\n    </tr>\n    <tr>\n      <th>3</th>\n      <td>Spain</td>\n      <td>1</td>\n      <td>656</td>\n      <td>Product C</td>\n      <td>3000</td>\n    </tr>\n    <tr>\n      <th>4</th>\n      <td>Spain</td>\n      <td>2</td>\n      <td>888</td>\n      <td>Product D</td>\n      <td>3800</td>\n    </tr>\n    <tr>\n      <th>5</th>\n      <td>Spain</td>\n      <td>3</td>\n      <td>668</td>\n      <td>Product U</td>\n      <td>3900</td>\n    </tr>\n  </tbody>\n</table>\n</div>"
          },
          "metadata": {}
        }
      ],
      "id": "ff6a650c-8712-4b8a-b3ed-6e4c35c3c159"
    },
    {
      "cell_type": "code",
      "source": "productos = ecommerce[\"TotalOnInvoice\"] = ecommerce[\"Quantity\"] * ecommerce[\"UnitPrice\"]",
      "metadata": {
        "trusted": true
      },
      "execution_count": 57,
      "outputs": [],
      "id": "641a0dba-0a19-4e4a-85ae-dca5db902f19"
    },
    {
      "cell_type": "code",
      "source": "productos = pd.DataFrame({ \"Country\":ecommerce[\"Country\"]  ,\"StockCode\":ecommerce[\"StockCode\"] ,\"Description\":ecommerce[\"Description\"], \"TotalOnInvoice\":ecommerce[\"TotalOnInvoice\"]})",
      "metadata": {
        "trusted": true
      },
      "execution_count": 81,
      "outputs": [],
      "id": "4d84cf61-59f8-491a-98bf-7b34461411a2"
    },
    {
      "cell_type": "code",
      "source": "productos",
      "metadata": {
        "trusted": true
      },
      "execution_count": 82,
      "outputs": [
        {
          "execution_count": 82,
          "output_type": "execute_result",
          "data": {
            "text/plain": "               Country StockCode                          Description  \\\n0       United Kingdom    85123A   WHITE HANGING HEART T-LIGHT HOLDER   \n1       United Kingdom     71053                  WHITE METAL LANTERN   \n2       United Kingdom    84406B       CREAM CUPID HEARTS COAT HANGER   \n3       United Kingdom    84029G  KNITTED UNION FLAG HOT WATER BOTTLE   \n4       United Kingdom    84029E       RED WOOLLY HOTTIE WHITE HEART.   \n...                ...       ...                                  ...   \n541904          France     22613          PACK OF 20 SPACEBOY NAPKINS   \n541905          France     22899         CHILDREN'S APRON DOLLY GIRL    \n541906          France     23254        CHILDRENS CUTLERY DOLLY GIRL    \n541907          France     23255      CHILDRENS CUTLERY CIRCUS PARADE   \n541908          France     22138        BAKING SET 9 PIECE RETROSPOT    \n\n        TotalOnInvoice  \n0                15.30  \n1                20.34  \n2                22.00  \n3                20.34  \n4                20.34  \n...                ...  \n541904           10.20  \n541905           12.60  \n541906           16.60  \n541907           16.60  \n541908           14.85  \n\n[541909 rows x 4 columns]",
            "text/html": "<div>\n<style scoped>\n    .dataframe tbody tr th:only-of-type {\n        vertical-align: middle;\n    }\n\n    .dataframe tbody tr th {\n        vertical-align: top;\n    }\n\n    .dataframe thead th {\n        text-align: right;\n    }\n</style>\n<table border=\"1\" class=\"dataframe\">\n  <thead>\n    <tr style=\"text-align: right;\">\n      <th></th>\n      <th>Country</th>\n      <th>StockCode</th>\n      <th>Description</th>\n      <th>TotalOnInvoice</th>\n    </tr>\n  </thead>\n  <tbody>\n    <tr>\n      <th>0</th>\n      <td>United Kingdom</td>\n      <td>85123A</td>\n      <td>WHITE HANGING HEART T-LIGHT HOLDER</td>\n      <td>15.30</td>\n    </tr>\n    <tr>\n      <th>1</th>\n      <td>United Kingdom</td>\n      <td>71053</td>\n      <td>WHITE METAL LANTERN</td>\n      <td>20.34</td>\n    </tr>\n    <tr>\n      <th>2</th>\n      <td>United Kingdom</td>\n      <td>84406B</td>\n      <td>CREAM CUPID HEARTS COAT HANGER</td>\n      <td>22.00</td>\n    </tr>\n    <tr>\n      <th>3</th>\n      <td>United Kingdom</td>\n      <td>84029G</td>\n      <td>KNITTED UNION FLAG HOT WATER BOTTLE</td>\n      <td>20.34</td>\n    </tr>\n    <tr>\n      <th>4</th>\n      <td>United Kingdom</td>\n      <td>84029E</td>\n      <td>RED WOOLLY HOTTIE WHITE HEART.</td>\n      <td>20.34</td>\n    </tr>\n    <tr>\n      <th>...</th>\n      <td>...</td>\n      <td>...</td>\n      <td>...</td>\n      <td>...</td>\n    </tr>\n    <tr>\n      <th>541904</th>\n      <td>France</td>\n      <td>22613</td>\n      <td>PACK OF 20 SPACEBOY NAPKINS</td>\n      <td>10.20</td>\n    </tr>\n    <tr>\n      <th>541905</th>\n      <td>France</td>\n      <td>22899</td>\n      <td>CHILDREN'S APRON DOLLY GIRL</td>\n      <td>12.60</td>\n    </tr>\n    <tr>\n      <th>541906</th>\n      <td>France</td>\n      <td>23254</td>\n      <td>CHILDRENS CUTLERY DOLLY GIRL</td>\n      <td>16.60</td>\n    </tr>\n    <tr>\n      <th>541907</th>\n      <td>France</td>\n      <td>23255</td>\n      <td>CHILDRENS CUTLERY CIRCUS PARADE</td>\n      <td>16.60</td>\n    </tr>\n    <tr>\n      <th>541908</th>\n      <td>France</td>\n      <td>22138</td>\n      <td>BAKING SET 9 PIECE RETROSPOT</td>\n      <td>14.85</td>\n    </tr>\n  </tbody>\n</table>\n<p>541909 rows × 4 columns</p>\n</div>"
          },
          "metadata": {}
        }
      ],
      "id": "8c69f4dd-9a45-420b-9ed4-d3df4de1e40f"
    },
    {
      "cell_type": "code",
      "source": "productos.min()",
      "metadata": {
        "trusted": true
      },
      "execution_count": 83,
      "outputs": [
        {
          "name": "stderr",
          "text": "<ipython-input-83-d3b877f6675f>:1: FutureWarning: Dropping of nuisance columns in DataFrame reductions (with 'numeric_only=None') is deprecated; in a future version this will raise TypeError.  Select only valid columns before calling the reduction.\n  productos.min()\n",
          "output_type": "stream"
        },
        {
          "execution_count": 83,
          "output_type": "execute_result",
          "data": {
            "text/plain": "Country           Australia\nStockCode             10002\nTotalOnInvoice    -168469.6\ndtype: object"
          },
          "metadata": {}
        }
      ],
      "id": "2df7018e-8d15-46cd-837e-adf1bd20bb68"
    },
    {
      "cell_type": "code",
      "source": "",
      "metadata": {},
      "execution_count": null,
      "outputs": [],
      "id": "7f67b008-1d3a-4b84-8636-c5e3a3a75e3e"
    }
  ]
}